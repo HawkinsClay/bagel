{
 "metadata": {
  "name": "",
  "signature": "sha256:10ee5fdf57c05223057e5d2d4e6cc32b0bca899b2d1afbbd69850a560c41f7db"
 },
 "nbformat": 3,
 "nbformat_minor": 0,
 "worksheets": []
}