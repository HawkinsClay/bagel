{
 "cells": [
  {
   "cell_type": "markdown",
   "metadata": {},
   "source": [
    "# Protein production and purification for β-glucosidase B"
   ]
  },
  {
   "cell_type": "markdown",
   "metadata": {},
   "source": [
    "## Day 0: Deep prep\n",
    "\n",
    "Day 0 is the day for making the stock solutions that you will use throughout the five-day procedure. \n",
    "\n",
    "### LB plates with kanamycin (25 plates)\n",
    "\n",
    "Autoclave 250 mL water with 2 pellets of LB agar in a 500 mL bottle. After autoclaving, hold in 50 C dry bath until 50 C, then add 250 μL 1000X kanamycin solution. Use a serological pipet to pour 10 mL per plate\n",
    "\n",
    "### Lysis mix (100 reactions)\n",
    "\n",
    "Combine 80 mg lysozyme, 10 mg DNAse, and 10 mg PMSF in a Falcon tube and shake well to combine\n",
    "\n",
    "### Terrific broth (TB) (250 mL)\n",
    "\n",
    "Dissolve 12.5 g dry Terrific Broth in 250 mL water and autoclave\n",
    "\n",
    "### 1 M isopropyl-beta-D-thiogalactopyranoside (1000X IPTG) (10 mL) \n",
    "\n",
    "Dissolve 240 mg IPTG in 1 mL wash buffer. Store 25 μL aliquots at –20 C\n",
    "\n",
    "### Wash buffer (1 L)\n",
    "\n",
    "Dissolve 11.9 g HEPES, 8.7 g sodium chloride, and 0.68 g imidazole in water and adjust pH to 7.50\n",
    "\n",
    "### Protein buffer (1 L)\n",
    "\n",
    "Dissolve 11.9 g HEPES, 8.7 g sodium chloride, and 7.31 g EDTA in water and adjust pH to 7.50\n",
    "\n",
    "### 0.1 M 4-nitrophenyl-β-D-glucopyranoside (substrate) (100 mL)\n",
    "\n",
    "Dissolve 3.01 g 4-nitrophenyl-β-D-glucopyranoside in 100 mL protein buffer. Store 1.25 mL aliquots at –20 C"
   ]
  },
  {
   "cell_type": "markdown",
   "metadata": {},
   "source": [
    "## Day 1: Transform your mutant plasmid into cells \n",
    "\n",
    "### Materials\n",
    "\n",
    "Material | Concentration  | Amount per reaction\n",
    "---------|----------------|-----------------------------\n",
    "Chemically-competent Escherichia coli BL21(DE3) | | 30 μL \n",
    "Mutant plasmid solution | 20 ng/μL | 2 μL\n",
    "Terrific broth (TB) | | 200 μL\n",
    "Agar plates with kanamycin | | 1\n",
    "Sterile beads | | 8–10 \n",
    "2 mL tube | | 1\n",
    "\n",
    "### Method "
   ]
  },
  {
   "cell_type": "code",
   "execution_count": null,
   "metadata": {
    "collapsed": true
   },
   "outputs": [],
   "source": []
  }
 ],
 "metadata": {
  "kernelspec": {
   "display_name": "Python 2",
   "language": "python",
   "name": "python2"
  },
  "language_info": {
   "codemirror_mode": {
    "name": "ipython",
    "version": 2
   },
   "file_extension": ".py",
   "mimetype": "text/x-python",
   "name": "python",
   "nbconvert_exporter": "python",
   "pygments_lexer": "ipython2",
   "version": "2.7.10"
  }
 },
 "nbformat": 4,
 "nbformat_minor": 0
}
